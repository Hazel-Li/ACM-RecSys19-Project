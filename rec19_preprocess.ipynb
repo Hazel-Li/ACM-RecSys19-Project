{
 "cells": [
  {
   "cell_type": "code",
   "execution_count": 1,
   "metadata": {},
   "outputs": [],
   "source": [
    "import numpy as np\n",
    "import pandas as pd\n",
    "import datetime as dt"
   ]
  },
  {
   "cell_type": "code",
   "execution_count": 2,
   "metadata": {},
   "outputs": [],
   "source": [
    "PATH_TO_ORIGINAL_DATA = '~/SecretGarden/DeepLearning/RecSy/trivagodataset/'"
   ]
  },
  {
   "cell_type": "code",
   "execution_count": 3,
   "metadata": {
    "scrolled": true
   },
   "outputs": [
    {
     "data": {
      "text/html": [
       "<div>\n",
       "<style scoped>\n",
       "    .dataframe tbody tr th:only-of-type {\n",
       "        vertical-align: middle;\n",
       "    }\n",
       "\n",
       "    .dataframe tbody tr th {\n",
       "        vertical-align: top;\n",
       "    }\n",
       "\n",
       "    .dataframe thead th {\n",
       "        text-align: right;\n",
       "    }\n",
       "</style>\n",
       "<table border=\"1\" class=\"dataframe\">\n",
       "  <thead>\n",
       "    <tr style=\"text-align: right;\">\n",
       "      <th></th>\n",
       "      <th>user_id</th>\n",
       "      <th>session_id</th>\n",
       "      <th>timestamp</th>\n",
       "      <th>step</th>\n",
       "      <th>action_type</th>\n",
       "      <th>reference</th>\n",
       "      <th>platform</th>\n",
       "      <th>city</th>\n",
       "      <th>device</th>\n",
       "      <th>current_filters</th>\n",
       "      <th>impressions</th>\n",
       "      <th>prices</th>\n",
       "    </tr>\n",
       "  </thead>\n",
       "  <tbody>\n",
       "    <tr>\n",
       "      <th>0</th>\n",
       "      <td>00RL8Z82B2Z1</td>\n",
       "      <td>aff3928535f48</td>\n",
       "      <td>1541037460</td>\n",
       "      <td>1</td>\n",
       "      <td>search for poi</td>\n",
       "      <td>Newtown</td>\n",
       "      <td>AU</td>\n",
       "      <td>Sydney, Australia</td>\n",
       "      <td>mobile</td>\n",
       "      <td>NaN</td>\n",
       "      <td>NaN</td>\n",
       "      <td>NaN</td>\n",
       "    </tr>\n",
       "    <tr>\n",
       "      <th>1</th>\n",
       "      <td>00RL8Z82B2Z1</td>\n",
       "      <td>aff3928535f48</td>\n",
       "      <td>1541037522</td>\n",
       "      <td>2</td>\n",
       "      <td>interaction item image</td>\n",
       "      <td>666856</td>\n",
       "      <td>AU</td>\n",
       "      <td>Sydney, Australia</td>\n",
       "      <td>mobile</td>\n",
       "      <td>NaN</td>\n",
       "      <td>NaN</td>\n",
       "      <td>NaN</td>\n",
       "    </tr>\n",
       "    <tr>\n",
       "      <th>2</th>\n",
       "      <td>00RL8Z82B2Z1</td>\n",
       "      <td>aff3928535f48</td>\n",
       "      <td>1541037532</td>\n",
       "      <td>4</td>\n",
       "      <td>interaction item image</td>\n",
       "      <td>666856</td>\n",
       "      <td>AU</td>\n",
       "      <td>Sydney, Australia</td>\n",
       "      <td>mobile</td>\n",
       "      <td>NaN</td>\n",
       "      <td>NaN</td>\n",
       "      <td>NaN</td>\n",
       "    </tr>\n",
       "    <tr>\n",
       "      <th>3</th>\n",
       "      <td>00RL8Z82B2Z1</td>\n",
       "      <td>aff3928535f48</td>\n",
       "      <td>1541037532</td>\n",
       "      <td>5</td>\n",
       "      <td>interaction item image</td>\n",
       "      <td>109038</td>\n",
       "      <td>AU</td>\n",
       "      <td>Sydney, Australia</td>\n",
       "      <td>mobile</td>\n",
       "      <td>NaN</td>\n",
       "      <td>NaN</td>\n",
       "      <td>NaN</td>\n",
       "    </tr>\n",
       "    <tr>\n",
       "      <th>4</th>\n",
       "      <td>00RL8Z82B2Z1</td>\n",
       "      <td>aff3928535f48</td>\n",
       "      <td>1541037542</td>\n",
       "      <td>9</td>\n",
       "      <td>interaction item image</td>\n",
       "      <td>109038</td>\n",
       "      <td>AU</td>\n",
       "      <td>Sydney, Australia</td>\n",
       "      <td>mobile</td>\n",
       "      <td>NaN</td>\n",
       "      <td>NaN</td>\n",
       "      <td>NaN</td>\n",
       "    </tr>\n",
       "  </tbody>\n",
       "</table>\n",
       "</div>"
      ],
      "text/plain": [
       "        user_id     session_id   timestamp  step             action_type  \\\n",
       "0  00RL8Z82B2Z1  aff3928535f48  1541037460     1          search for poi   \n",
       "1  00RL8Z82B2Z1  aff3928535f48  1541037522     2  interaction item image   \n",
       "2  00RL8Z82B2Z1  aff3928535f48  1541037532     4  interaction item image   \n",
       "3  00RL8Z82B2Z1  aff3928535f48  1541037532     5  interaction item image   \n",
       "4  00RL8Z82B2Z1  aff3928535f48  1541037542     9  interaction item image   \n",
       "\n",
       "  reference platform               city  device current_filters impressions  \\\n",
       "0   Newtown       AU  Sydney, Australia  mobile             NaN         NaN   \n",
       "1    666856       AU  Sydney, Australia  mobile             NaN         NaN   \n",
       "2    666856       AU  Sydney, Australia  mobile             NaN         NaN   \n",
       "3    109038       AU  Sydney, Australia  mobile             NaN         NaN   \n",
       "4    109038       AU  Sydney, Australia  mobile             NaN         NaN   \n",
       "\n",
       "  prices  \n",
       "0    NaN  \n",
       "1    NaN  \n",
       "2    NaN  \n",
       "3    NaN  \n",
       "4    NaN  "
      ]
     },
     "execution_count": 3,
     "metadata": {},
     "output_type": "execute_result"
    }
   ],
   "source": [
    "data = pd.read_csv(PATH_TO_ORIGINAL_DATA + 'train_drop_duplicates_and_after_last_clickout_items.csv', sep=',')\n",
    "data.head()"
   ]
  },
  {
   "cell_type": "code",
   "execution_count": 4,
   "metadata": {},
   "outputs": [
    {
     "data": {
      "text/html": [
       "<div>\n",
       "<style scoped>\n",
       "    .dataframe tbody tr th:only-of-type {\n",
       "        vertical-align: middle;\n",
       "    }\n",
       "\n",
       "    .dataframe tbody tr th {\n",
       "        vertical-align: top;\n",
       "    }\n",
       "\n",
       "    .dataframe thead th {\n",
       "        text-align: right;\n",
       "    }\n",
       "</style>\n",
       "<table border=\"1\" class=\"dataframe\">\n",
       "  <thead>\n",
       "    <tr style=\"text-align: right;\">\n",
       "      <th></th>\n",
       "      <th>user_id</th>\n",
       "      <th>session_id</th>\n",
       "      <th>timestamp</th>\n",
       "      <th>step</th>\n",
       "      <th>action_type</th>\n",
       "      <th>reference</th>\n",
       "      <th>platform</th>\n",
       "      <th>city</th>\n",
       "      <th>device</th>\n",
       "      <th>current_filters</th>\n",
       "      <th>impressions</th>\n",
       "      <th>prices</th>\n",
       "    </tr>\n",
       "  </thead>\n",
       "  <tbody>\n",
       "    <tr>\n",
       "      <th>1</th>\n",
       "      <td>00RL8Z82B2Z1</td>\n",
       "      <td>aff3928535f48</td>\n",
       "      <td>1541037522</td>\n",
       "      <td>2</td>\n",
       "      <td>interaction item image</td>\n",
       "      <td>666856</td>\n",
       "      <td>AU</td>\n",
       "      <td>Sydney, Australia</td>\n",
       "      <td>mobile</td>\n",
       "      <td>NaN</td>\n",
       "      <td>NaN</td>\n",
       "      <td>NaN</td>\n",
       "    </tr>\n",
       "    <tr>\n",
       "      <th>2</th>\n",
       "      <td>00RL8Z82B2Z1</td>\n",
       "      <td>aff3928535f48</td>\n",
       "      <td>1541037532</td>\n",
       "      <td>4</td>\n",
       "      <td>interaction item image</td>\n",
       "      <td>666856</td>\n",
       "      <td>AU</td>\n",
       "      <td>Sydney, Australia</td>\n",
       "      <td>mobile</td>\n",
       "      <td>NaN</td>\n",
       "      <td>NaN</td>\n",
       "      <td>NaN</td>\n",
       "    </tr>\n",
       "    <tr>\n",
       "      <th>3</th>\n",
       "      <td>00RL8Z82B2Z1</td>\n",
       "      <td>aff3928535f48</td>\n",
       "      <td>1541037532</td>\n",
       "      <td>5</td>\n",
       "      <td>interaction item image</td>\n",
       "      <td>109038</td>\n",
       "      <td>AU</td>\n",
       "      <td>Sydney, Australia</td>\n",
       "      <td>mobile</td>\n",
       "      <td>NaN</td>\n",
       "      <td>NaN</td>\n",
       "      <td>NaN</td>\n",
       "    </tr>\n",
       "    <tr>\n",
       "      <th>4</th>\n",
       "      <td>00RL8Z82B2Z1</td>\n",
       "      <td>aff3928535f48</td>\n",
       "      <td>1541037542</td>\n",
       "      <td>9</td>\n",
       "      <td>interaction item image</td>\n",
       "      <td>109038</td>\n",
       "      <td>AU</td>\n",
       "      <td>Sydney, Australia</td>\n",
       "      <td>mobile</td>\n",
       "      <td>NaN</td>\n",
       "      <td>NaN</td>\n",
       "      <td>NaN</td>\n",
       "    </tr>\n",
       "    <tr>\n",
       "      <th>5</th>\n",
       "      <td>00RL8Z82B2Z1</td>\n",
       "      <td>aff3928535f48</td>\n",
       "      <td>1541037543</td>\n",
       "      <td>14</td>\n",
       "      <td>clickout item</td>\n",
       "      <td>109038</td>\n",
       "      <td>AU</td>\n",
       "      <td>Sydney, Australia</td>\n",
       "      <td>mobile</td>\n",
       "      <td>NaN</td>\n",
       "      <td>3400638|1253714|3367857|5100540|1088584|666916...</td>\n",
       "      <td>95|66|501|112|95|100|101|72|82|56|56|143|70|25...</td>\n",
       "    </tr>\n",
       "  </tbody>\n",
       "</table>\n",
       "</div>"
      ],
      "text/plain": [
       "        user_id     session_id   timestamp  step             action_type  \\\n",
       "1  00RL8Z82B2Z1  aff3928535f48  1541037522     2  interaction item image   \n",
       "2  00RL8Z82B2Z1  aff3928535f48  1541037532     4  interaction item image   \n",
       "3  00RL8Z82B2Z1  aff3928535f48  1541037532     5  interaction item image   \n",
       "4  00RL8Z82B2Z1  aff3928535f48  1541037542     9  interaction item image   \n",
       "5  00RL8Z82B2Z1  aff3928535f48  1541037543    14           clickout item   \n",
       "\n",
       "  reference platform               city  device current_filters  \\\n",
       "1    666856       AU  Sydney, Australia  mobile             NaN   \n",
       "2    666856       AU  Sydney, Australia  mobile             NaN   \n",
       "3    109038       AU  Sydney, Australia  mobile             NaN   \n",
       "4    109038       AU  Sydney, Australia  mobile             NaN   \n",
       "5    109038       AU  Sydney, Australia  mobile             NaN   \n",
       "\n",
       "                                         impressions  \\\n",
       "1                                                NaN   \n",
       "2                                                NaN   \n",
       "3                                                NaN   \n",
       "4                                                NaN   \n",
       "5  3400638|1253714|3367857|5100540|1088584|666916...   \n",
       "\n",
       "                                              prices  \n",
       "1                                                NaN  \n",
       "2                                                NaN  \n",
       "3                                                NaN  \n",
       "4                                                NaN  \n",
       "5  95|66|501|112|95|100|101|72|82|56|56|143|70|25...  "
      ]
     },
     "execution_count": 4,
     "metadata": {},
     "output_type": "execute_result"
    }
   ],
   "source": [
    "data=data[data[\"reference\"].str.isnumeric()]\n",
    "data.head()"
   ]
  },
  {
   "cell_type": "code",
   "execution_count": null,
   "metadata": {},
   "outputs": [],
   "source": [
    "session_lengths = data.groupby('session_id').size()\n",
    "data = data[np.in1d(data.session_id, session_lengths[session_lengths>1].index)]\n",
    "# item_supports = data.groupby('reference').size()\n",
    "# train_item_based = data[np.in1d(data.reference, item_supports[item_supports>=5].index)]\n",
    "# session_lengths = data.groupby('SessionId').size()\n",
    "# data = data[np.in1d(data.SessionId, session_lengths[session_lengths>=2].index)]"
   ]
  },
  {
   "cell_type": "code",
   "execution_count": 65,
   "metadata": {},
   "outputs": [],
   "source": [
    "def create_seq_db_filter_top_k(file):\n",
    "\n",
    "    groups = file.groupby('session_id')\n",
    "\n",
    "    # convert item ids to string, then aggregate them to lists\n",
    "    aggregated = groups['reference'].agg({'sequence': lambda x: list(map(str, x))})\n",
    "    init_ts = groups['timestamp'].min()\n",
    "    users = groups['user_id'].min()  # it's just fast, min doesn't actually make sense\n",
    "\n",
    "    result = aggregated.join(init_ts).join(users)\n",
    "    result.reset_index(inplace=True)\n",
    "    return result"
   ]
  },
  {
   "cell_type": "code",
   "execution_count": 66,
   "metadata": {},
   "outputs": [
    {
     "name": "stderr",
     "output_type": "stream",
     "text": [
      "/anaconda3/lib/python3.6/site-packages/ipykernel_launcher.py:6: FutureWarning: using a dict on a Series for aggregation\n",
      "is deprecated and will be removed in a future version\n",
      "  \n"
     ]
    },
    {
     "data": {
      "text/html": [
       "<div>\n",
       "<style scoped>\n",
       "    .dataframe tbody tr th:only-of-type {\n",
       "        vertical-align: middle;\n",
       "    }\n",
       "\n",
       "    .dataframe tbody tr th {\n",
       "        vertical-align: top;\n",
       "    }\n",
       "\n",
       "    .dataframe thead th {\n",
       "        text-align: right;\n",
       "    }\n",
       "</style>\n",
       "<table border=\"1\" class=\"dataframe\">\n",
       "  <thead>\n",
       "    <tr style=\"text-align: right;\">\n",
       "      <th></th>\n",
       "      <th>session_id</th>\n",
       "      <th>sequence</th>\n",
       "      <th>timestamp</th>\n",
       "      <th>user_id</th>\n",
       "    </tr>\n",
       "  </thead>\n",
       "  <tbody>\n",
       "    <tr>\n",
       "      <th>0</th>\n",
       "      <td>000138ab4f789</td>\n",
       "      <td>[2423456, 2423456, 152444]</td>\n",
       "      <td>1541446487</td>\n",
       "      <td>WDBP226XSN9E</td>\n",
       "    </tr>\n",
       "    <tr>\n",
       "      <th>1</th>\n",
       "      <td>0006855fc2acc</td>\n",
       "      <td>[1255812, 1472957, 1136271, 1952929, 899487, 1...</td>\n",
       "      <td>1541485045</td>\n",
       "      <td>82L82SS4MU7W</td>\n",
       "    </tr>\n",
       "    <tr>\n",
       "      <th>2</th>\n",
       "      <td>0006c25fcfd9e</td>\n",
       "      <td>[980705, 980705]</td>\n",
       "      <td>1541478280</td>\n",
       "      <td>OD8S64CCTOJV</td>\n",
       "    </tr>\n",
       "    <tr>\n",
       "      <th>3</th>\n",
       "      <td>000740962ae8f</td>\n",
       "      <td>[5836036, 10039738]</td>\n",
       "      <td>1541425957</td>\n",
       "      <td>IDXWAQD6GIX3</td>\n",
       "    </tr>\n",
       "    <tr>\n",
       "      <th>4</th>\n",
       "      <td>0008e0d108065</td>\n",
       "      <td>[1840085, 18370, 1840085, 1840085]</td>\n",
       "      <td>1541370339</td>\n",
       "      <td>4UV64DOIJ0NA</td>\n",
       "    </tr>\n",
       "  </tbody>\n",
       "</table>\n",
       "</div>"
      ],
      "text/plain": [
       "      session_id                                           sequence  \\\n",
       "0  000138ab4f789                         [2423456, 2423456, 152444]   \n",
       "1  0006855fc2acc  [1255812, 1472957, 1136271, 1952929, 899487, 1...   \n",
       "2  0006c25fcfd9e                                   [980705, 980705]   \n",
       "3  000740962ae8f                                [5836036, 10039738]   \n",
       "4  0008e0d108065                 [1840085, 18370, 1840085, 1840085]   \n",
       "\n",
       "    timestamp       user_id  \n",
       "0  1541446487  WDBP226XSN9E  \n",
       "1  1541485045  82L82SS4MU7W  \n",
       "2  1541478280  OD8S64CCTOJV  \n",
       "3  1541425957  IDXWAQD6GIX3  \n",
       "4  1541370339  4UV64DOIJ0NA  "
      ]
     },
     "execution_count": 66,
     "metadata": {},
     "output_type": "execute_result"
    }
   ],
   "source": [
    "from collections import Counter\n",
    "data_util=create_seq_db_filter_top_k(data)\n",
    "data_util.head()"
   ]
  },
  {
   "cell_type": "code",
   "execution_count": 67,
   "metadata": {},
   "outputs": [],
   "source": [
    "from collections import Counter\n",
    "def show_stats(data_util):\n",
    "    cnt = Counter()\n",
    "    data_util.sequence.map(cnt.update)\n",
    "    sequence_length = data_util.sequence.map(len).values\n",
    "    n_sessions_per_user = data_util.groupby('user_id').size()\n",
    "\n",
    "    print('Number of items: {}'.format(len(cnt)))\n",
    "    print('Number of users: {}'.format(data_util.user_id.nunique()))\n",
    "    print('Number of sessions: {}'.format(len(data_util)) )"
   ]
  },
  {
   "cell_type": "code",
   "execution_count": 68,
   "metadata": {},
   "outputs": [
    {
     "name": "stdout",
     "output_type": "stream",
     "text": [
      "Number of items: 14816\n",
      "Number of users: 35483\n",
      "Number of sessions: 38592\n"
     ]
    }
   ],
   "source": [
    "show_stats(data_util)"
   ]
  },
  {
   "cell_type": "code",
   "execution_count": 81,
   "metadata": {},
   "outputs": [],
   "source": [
    "def session_split(data,\n",
    "                       user_key='user_id',\n",
    "                       session_key='session_id',\n",
    "                       time_key='timestamp'):\n",
    "\n",
    "    tmax = data.timestamp.max()\n",
    "    session_max_times = data.groupby(session_key).timestamp.max()\n",
    "    session_split = session_max_times[session_max_times < tmax-86400].index\n",
    "    \n",
    "    L1 = data[data.session_id.isin(session_split.values)].copy()\n",
    "    L2 = data[~data.session_id.isin(session_split.values)].copy()\n",
    "    return L1, L2"
   ]
  },
  {
   "cell_type": "code",
   "execution_count": 155,
   "metadata": {},
   "outputs": [],
   "source": [
    "train_data,test_data=session_split(data_util)"
   ]
  },
  {
   "cell_type": "code",
   "execution_count": 156,
   "metadata": {},
   "outputs": [
    {
     "name": "stdout",
     "output_type": "stream",
     "text": [
      "Number of items: 14649\n",
      "Number of users: 29385\n",
      "Number of sessions: 31795\n",
      "Number of items: 9183\n",
      "Number of users: 6577\n",
      "Number of sessions: 6797\n"
     ]
    }
   ],
   "source": [
    "show_stats(train_data);show_stats(test_data)"
   ]
  },
  {
   "cell_type": "code",
   "execution_count": 157,
   "metadata": {},
   "outputs": [],
   "source": [
    "train_tr,valid_data=session_split(train_data)"
   ]
  },
  {
   "cell_type": "code",
   "execution_count": 158,
   "metadata": {},
   "outputs": [
    {
     "name": "stdout",
     "output_type": "stream",
     "text": [
      "Number of items: 14260\n",
      "Number of users: 22910\n",
      "Number of sessions: 24659\n",
      "Number of items: 9438\n",
      "Number of users: 6901\n",
      "Number of sessions: 7136\n"
     ]
    }
   ],
   "source": [
    "show_stats(train_tr);show_stats(valid_data)"
   ]
  },
  {
   "cell_type": "code",
   "execution_count": 159,
   "metadata": {},
   "outputs": [],
   "source": [
    "def dataset_to_format(dataset):\n",
    "    lst_col = 'sequence'\n",
    "    df = dataset.reset_index()\n",
    "    unstacked = pd.DataFrame({\n",
    "        col: np.repeat(df[col].values, df[lst_col].str.len()) for col in df.columns.drop(lst_col)}\n",
    "    ).assign(**{lst_col: np.concatenate(df[lst_col].values)})[df.columns]\n",
    "    # ensure that events in the session have increasing timestamps\n",
    "    unstacked['timestamp'] = unstacked['timestamp'] + unstacked.groupby('user_id').cumcount()\n",
    "    unstacked.rename(columns={'sequence': 'item_id'}, inplace=True)\n",
    "    return unstacked"
   ]
  },
  {
   "cell_type": "code",
   "execution_count": 160,
   "metadata": {},
   "outputs": [],
   "source": [
    "train_tr=dataset_to_format(train_tr)\n",
    "valid_data=dataset_to_format(valid_data)\n",
    "test_data=dataset_to_format(test_data)"
   ]
  },
  {
   "cell_type": "code",
   "execution_count": 162,
   "metadata": {},
   "outputs": [],
   "source": [
    "train_tr.drop(['index'],axis=1).to_csv('rsc19_train.txt', sep='\\t', index=False)\n",
    "valid_data.drop(['index'],axis=1).to_csv('rsc19_valid.txt', sep='\\t', index=False)\n",
    "test_data.drop(['index'],axis=1).to_csv('rsc19_test.txt', sep='\\t', index=False)"
   ]
  },
  {
   "cell_type": "code",
   "execution_count": null,
   "metadata": {},
   "outputs": [],
   "source": []
  }
 ],
 "metadata": {
  "kernelspec": {
   "display_name": "Python 3",
   "language": "python",
   "name": "python3"
  },
  "language_info": {
   "codemirror_mode": {
    "name": "ipython",
    "version": 3
   },
   "file_extension": ".py",
   "mimetype": "text/x-python",
   "name": "python",
   "nbconvert_exporter": "python",
   "pygments_lexer": "ipython3",
   "version": "3.6.5"
  }
 },
 "nbformat": 4,
 "nbformat_minor": 2
}
